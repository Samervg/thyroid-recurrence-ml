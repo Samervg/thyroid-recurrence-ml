{
 "cells": [
  {
   "cell_type": "code",
   "execution_count": 1,
   "id": "3025dd95",
   "metadata": {},
   "outputs": [],
   "source": [
    "import pandas as pd\n",
    "import matplotlib.pyplot as plt\n",
    "from sklearn.preprocessing import LabelEncoder\n",
    "from sklearn.model_selection import train_test_split\n",
    "\n"
   ]
  },
  {
   "cell_type": "code",
   "execution_count": 2,
   "id": "9ed95cee",
   "metadata": {},
   "outputs": [],
   "source": [
    "df= pd.read_csv(\"thyroid_data.csv\")\n"
   ]
  },
  {
   "cell_type": "code",
   "execution_count": 3,
   "id": "18b5904f",
   "metadata": {},
   "outputs": [
    {
     "name": "stdout",
     "output_type": "stream",
     "text": [
      " scaler.pkl ve feature_names.pkl başarıyla kaydedildi. Özellik sayısı: 40\n"
     ]
    }
   ],
   "source": [
    "import pandas as pd\n",
    "import joblib\n",
    "import os\n",
    "from sklearn.preprocessing import StandardScaler\n",
    "\n",
    "# Veriyi okuyalım\n",
    "df = pd.read_csv(\"thyroid_data.csv\")\n",
    "\n",
    "# SHAP için uygun X oluştur (get_dummies ile)\n",
    "X = pd.get_dummies(df.drop(\"Recurred\", axis=1), drop_first=True)\n",
    "y = df[\"Recurred\"]\n",
    "\n",
    "# Ölçekleyelim\n",
    "scaler = StandardScaler()\n",
    "X_scaled = scaler.fit_transform(X)\n",
    "\n",
    "# Klasörleri oluştur(mkdir)\n",
    "os.makedirs(\"scaler\", exist_ok=True)\n",
    "\n",
    "# oluşturdugumuz dosyaları kaydedelim\n",
    "joblib.dump(scaler, \"scaler/scaler.pkl\")\n",
    "joblib.dump(X.columns.tolist(), \"scaler/feature_names.pkl\")\n",
    "\n",
    "print(f\" scaler.pkl ve feature_names.pkl başarıyla kaydedildi. Özellik sayısı: {X.shape[1]}\")\n"
   ]
  },
  {
   "cell_type": "code",
   "execution_count": 4,
   "id": "16294f72",
   "metadata": {},
   "outputs": [
    {
     "name": "stderr",
     "output_type": "stream",
     "text": [
      "C:\\Users\\Acer\\AppData\\Local\\Temp\\ipykernel_13740\\1033818582.py:6: FutureWarning: Downcasting behavior in `replace` is deprecated and will be removed in a future version. To retain the old behavior, explicitly call `result.infer_objects(copy=False)`. To opt-in to the future behavior, set `pd.set_option('future.no_silent_downcasting', True)`\n",
      "  y = df[\"Recurred\"].replace({\"No\": 0, \"Yes\": 1})\n"
     ]
    }
   ],
   "source": [
    "from sklearn.model_selection import train_test_split\n",
    "\n",
    "# Ana veri\n",
    "df = pd.read_csv(\"thyroid_data.csv\")\n",
    "X = pd.get_dummies(df.drop(\"Recurred\", axis=1), drop_first=True)\n",
    "y = df[\"Recurred\"].replace({\"No\": 0, \"Yes\": 1})\n",
    "\n",
    "# StandardScaler ile ölçekleme (eğer scaler.pkl kullanılmıyorsa)\n",
    "from sklearn.preprocessing import StandardScaler\n",
    "scaler = StandardScaler()\n",
    "X_scaled = scaler.fit_transform(X)\n",
    "\n",
    "# Train-test dosyalarına ayıralım\n",
    "x_train, x_test, y_train, y_test = train_test_split(\n",
    "    X_scaled, y, test_size=0.2, random_state=42, stratify=y\n",
    ")\n"
   ]
  },
  {
   "cell_type": "code",
   "execution_count": 5,
   "id": "4e655079",
   "metadata": {},
   "outputs": [
    {
     "name": "stdout",
     "output_type": "stream",
     "text": [
      "Logistic Regression Raporu:\n",
      "\n",
      "[[54  1]\n",
      " [ 2 20]]\n",
      "              precision    recall  f1-score   support\n",
      "\n",
      "           0       0.96      0.98      0.97        55\n",
      "           1       0.95      0.91      0.93        22\n",
      "\n",
      "    accuracy                           0.96        77\n",
      "   macro avg       0.96      0.95      0.95        77\n",
      "weighted avg       0.96      0.96      0.96        77\n",
      "\n",
      "Accuracy: 0.961038961038961\n"
     ]
    }
   ],
   "source": [
    "from sklearn.linear_model import LogisticRegression\n",
    "from sklearn.metrics import classification_report, confusion_matrix, accuracy_score\n",
    "\n",
    "lr_model = LogisticRegression(max_iter=1000, random_state=42)\n",
    "\n",
    "lr_model.fit(x_train, y_train)\n",
    "\n",
    "y_pred_lr = lr_model.predict(x_test)                                    #  logistic regresyon modeli\n",
    "\n",
    "print(\"Logistic Regression Raporu:\\n\")\n",
    "print(confusion_matrix(y_test, y_pred_lr))\n",
    "print(classification_report(y_test, y_pred_lr))\n",
    "print(\"Accuracy:\", accuracy_score(y_test, y_pred_lr))"
   ]
  },
  {
   "cell_type": "code",
   "execution_count": 6,
   "id": "b8c4d106",
   "metadata": {},
   "outputs": [
    {
     "data": {
      "text/plain": [
       "['scaler/feature_names.pkl']"
      ]
     },
     "execution_count": 6,
     "metadata": {},
     "output_type": "execute_result"
    }
   ],
   "source": [
    "df = pd.read_csv(\"thyroid_data.csv\")\n",
    "X = pd.get_dummies(df.drop(\"Recurred\", axis=1), drop_first=True)\n",
    "y = df[\"Recurred\"]\n",
    "\n",
    "from sklearn.model_selection import train_test_split\n",
    "x_train, x_test, y_train, y_test = train_test_split(X, y, stratify=y, test_size=0.2, random_state=42)\n",
    "\n",
    "from sklearn.preprocessing import StandardScaler\n",
    "import joblib, os\n",
    "\n",
    "scaler = StandardScaler()\n",
    "X_scaled = scaler.fit_transform(X)\n",
    "\n",
    "os.makedirs(\"scaler\", exist_ok=True)\n",
    "joblib.dump(scaler, \"scaler/scaler.pkl\")\n",
    "joblib.dump(X.columns.tolist(), \"scaler/feature_names.pkl\")\n"
   ]
  },
  {
   "cell_type": "code",
   "execution_count": 7,
   "id": "567c2308",
   "metadata": {},
   "outputs": [
    {
     "name": "stdout",
     "output_type": "stream",
     "text": [
      "Decision Tree Raporu:\n",
      "\n",
      "[[50  5]\n",
      " [ 2 20]]\n",
      "              precision    recall  f1-score   support\n",
      "\n",
      "          No       0.96      0.91      0.93        55\n",
      "         Yes       0.80      0.91      0.85        22\n",
      "\n",
      "    accuracy                           0.91        77\n",
      "   macro avg       0.88      0.91      0.89        77\n",
      "weighted avg       0.92      0.91      0.91        77\n",
      "\n",
      "accuracy: 0.9090909090909091\n"
     ]
    }
   ],
   "source": [
    "from sklearn .tree import DecisionTreeClassifier\n",
    "\n",
    "dt_model = DecisionTreeClassifier(random_state=42)\n",
    "\n",
    "dt_model.fit(x_train, y_train)\n",
    "\n",
    "y_pred_dt = dt_model.predict(x_test)         # karar agacı modeli\n",
    " \n",
    "print(\"Decision Tree Raporu:\\n\")\n",
    "print(confusion_matrix(y_test, y_pred_dt))\n",
    "print(classification_report(y_test, y_pred_dt))\n",
    "print(\"accuracy:\", accuracy_score(y_test, y_pred_dt))"
   ]
  },
  {
   "cell_type": "code",
   "execution_count": 8,
   "id": "cdbcffa6",
   "metadata": {},
   "outputs": [
    {
     "name": "stdout",
     "output_type": "stream",
     "text": [
      "Random Forest Raporu:\n",
      "\n",
      "[[55  0]\n",
      " [ 3 19]]\n",
      "              precision    recall  f1-score   support\n",
      "\n",
      "          No       0.95      1.00      0.97        55\n",
      "         Yes       1.00      0.86      0.93        22\n",
      "\n",
      "    accuracy                           0.96        77\n",
      "   macro avg       0.97      0.93      0.95        77\n",
      "weighted avg       0.96      0.96      0.96        77\n",
      "\n",
      "Accuracy: 0.961038961038961\n"
     ]
    },
    {
     "data": {
      "text/plain": [
       "['models/random_forest.pkl']"
      ]
     },
     "execution_count": 8,
     "metadata": {},
     "output_type": "execute_result"
    }
   ],
   "source": [
    "import pandas as pd\n",
    "import os\n",
    "from sklearn.ensemble import RandomForestClassifier\n",
    "from sklearn.metrics import confusion_matrix, classification_report, accuracy_score\n",
    "import joblib\n",
    "\n",
    "# Veriyi okuyalım ve one-hot encode edelim\n",
    "df = pd.read_csv(\"thyroid_data.csv\")\n",
    "X = pd.get_dummies(df.drop(\"Recurred\", axis=1), drop_first=True)\n",
    "y = df[\"Recurred\"]\n",
    "\n",
    "# Eğitim/test ayıralım\n",
    "from sklearn.model_selection import train_test_split\n",
    "x_train, x_test, y_train, y_test = train_test_split(X, y, test_size=0.2, random_state=42, stratify=y)\n",
    "\n",
    "# Modeli eğitelim\n",
    "rf_model = RandomForestClassifier(random_state=42)\n",
    "rf_model.fit(x_train, y_train)\n",
    "\n",
    "# Tahmin ve değerlendirme kısmı\n",
    "y_pred_rf = rf_model.predict(x_test)\n",
    "print(\"Random Forest Raporu:\\n\")\n",
    "print(confusion_matrix(y_test, y_pred_rf))\n",
    "print(classification_report(y_test, y_pred_rf))\n",
    "print(\"Accuracy:\", accuracy_score(y_test, y_pred_rf))\n",
    "\n",
    "# Kayıt klasörü ve modelin kaydını yapalım\n",
    "os.makedirs(\"models\", exist_ok=True)\n",
    "joblib.dump(rf_model, \"models/random_forest.pkl\")\n"
   ]
  },
  {
   "cell_type": "code",
   "execution_count": 9,
   "id": "e1f4e9bd",
   "metadata": {},
   "outputs": [
    {
     "data": {
      "image/png": "[encoded data removed]",
      "text/plain": [
       "<Figure size 800x1000 with 1 Axes>"
      ]
     },
     "metadata": {},
     "output_type": "display_data"
    }
   ],
   "source": [
    "import matplotlib.pyplot as plt\n",
    "import pandas as pd\n",
    "\n",
    "importances = rf_model.feature_importances_\n",
    "feature_names = X.columns\n",
    "importance_df = pd.Series(importances, index=feature_names).sort_values()\n",
    "\n",
    "plt.figure(figsize=(8, 10))\n",
    "importance_df.tail(20).plot(kind='barh')  # en önemli 20 özelliği gösterir.\n",
    "plt.title(\"Random Forest - Özellik Önem Sıralaması\")\n",
    "plt.xlabel(\"Önem\")\n",
    "plt.tight_layout()\n",
    "plt.show()\n"
   ]
  },
  {
   "cell_type": "code",
   "execution_count": 10,
   "id": "3b8055db",
   "metadata": {},
   "outputs": [
    {
     "name": "stdout",
     "output_type": "stream",
     "text": [
      "Voting Classifier Raporu:\n",
      "\n",
      "              precision    recall  f1-score   support\n",
      "\n",
      "          No       0.96      1.00      0.98        55\n",
      "         Yes       1.00      0.91      0.95        22\n",
      "\n",
      "    accuracy                           0.97        77\n",
      "   macro avg       0.98      0.95      0.97        77\n",
      "weighted avg       0.97      0.97      0.97        77\n",
      "\n",
      "Accuracy: 0.974025974025974\n"
     ]
    }
   ],
   "source": [
    "from sklearn.ensemble import VotingClassifier\n",
    "\n",
    "lr = LogisticRegression(max_iter=1000)\n",
    "rf = RandomForestClassifier()\n",
    "dt = DecisionTreeClassifier()\n",
    "\n",
    "voting_clf = VotingClassifier(\n",
    "    estimators=[('lr', lr), ('rf', rf), ('dt', dt)],\n",
    "    voting='soft'\n",
    "  #ensemble learning modelleri (voting ( oylama))\n",
    ")\n",
    "                                                     \n",
    "voting_clf.fit(x_train, y_train)\n",
    "y_pred = voting_clf.predict(x_test)\n",
    "\n",
    "from sklearn.metrics import classification_report, accuracy_score\n",
    "\n",
    "print(\"Voting Classifier Raporu:\\n\")\n",
    "print(classification_report(y_test, y_pred))\n",
    "print(\"Accuracy:\", accuracy_score(y_test, y_pred))\n"
   ]
  },
  {
   "cell_type": "code",
   "execution_count": 11,
   "id": "4654489d",
   "metadata": {},
   "outputs": [
    {
     "name": "stdout",
     "output_type": "stream",
     "text": [
      "Stacking Classifier Raporu:\n",
      "\n",
      "              precision    recall  f1-score   support\n",
      "\n",
      "          No       0.96      0.98      0.97        55\n",
      "         Yes       0.95      0.91      0.93        22\n",
      "\n",
      "    accuracy                           0.96        77\n",
      "   macro avg       0.96      0.95      0.95        77\n",
      "weighted avg       0.96      0.96      0.96        77\n",
      "\n",
      "Accuracy: 0.961038961038961\n"
     ]
    }
   ],
   "source": [
    "from sklearn.ensemble import StackingClassifier\n",
    "from sklearn.linear_model import LogisticRegression\n",
    "from sklearn.tree import DecisionTreeClassifier\n",
    "from sklearn.neighbors import KNeighborsClassifier\n",
    "from sklearn.ensemble import RandomForestClassifier\n",
    "from sklearn.metrics import classification_report, accuracy_score\n",
    "\n",
    "base_models = [\n",
    "    ('lr', LogisticRegression(max_iter=1000)),\n",
    "    ('dt', DecisionTreeClassifier()),\n",
    "    ('rf',RandomForestClassifier())\n",
    "]\n",
    "\n",
    "meta_model = RandomForestClassifier()\n",
    "\n",
    "stack_model = StackingClassifier(estimators=base_models, final_estimator=meta_model, cv=5)\n",
    "x_train, x_test, y_train, y_test = train_test_split(X, y, test_size=0.2, random_state=42, stratify=y)\n",
    "stack_model.fit(x_train, y_train)\n",
    "y_pred_stack = stack_model.predict(x_test)\n",
    "\n",
    "print(\"Stacking Classifier Raporu:\\n\")\n",
    "print(classification_report(y_test, y_pred_stack))\n",
    "print(\"Accuracy:\", accuracy_score(y_test, y_pred_stack))\n"
   ]
  },
  {
   "cell_type": "code",
   "execution_count": 12,
   "id": "37fed2f4",
   "metadata": {},
   "outputs": [
    {
     "name": "stdout",
     "output_type": "stream",
     "text": [
      "(306, 40)\n",
      "['Age', 'Gender_M', 'Smoking_Yes', 'Hx Smoking_Yes', 'Hx Radiothreapy_Yes', 'Thyroid Function_Clinical Hypothyroidism', 'Thyroid Function_Euthyroid', 'Thyroid Function_Subclinical Hyperthyroidism', 'Thyroid Function_Subclinical Hypothyroidism', 'Physical Examination_Multinodular goiter', 'Physical Examination_Normal', 'Physical Examination_Single nodular goiter-left', 'Physical Examination_Single nodular goiter-right', 'Adenopathy_Extensive', 'Adenopathy_Left', 'Adenopathy_No', 'Adenopathy_Posterior', 'Adenopathy_Right', 'Pathology_Hurthel cell', 'Pathology_Micropapillary', 'Pathology_Papillary', 'Focality_Uni-Focal', 'Risk_Intermediate', 'Risk_Low', 'T_T1b', 'T_T2', 'T_T3a', 'T_T3b', 'T_T4a', 'T_T4b', 'N_N1a', 'N_N1b', 'M_M1', 'Stage_II', 'Stage_III', 'Stage_IVA', 'Stage_IVB', 'Response_Excellent', 'Response_Indeterminate', 'Response_Structural Incomplete']\n"
     ]
    }
   ],
   "source": [
    "print(x_train.shape)           # Kaç özellikle eğitim yapıldı?     # kontrol amaçlı\n",
    "print(x_train.columns.tolist())  # Hangi özelliklerle?              \n"
   ]
  }
 ],
 "metadata": {
  "kernelspec": {
   "display_name": "tf-env (3.10.11)",
   "language": "python",
   "name": "python3"
  },
  "language_info": {
   "codemirror_mode": {
    "name": "ipython",
    "version": 3
   },
   "file_extension": ".py",
   "mimetype": "text/x-python",
   "name": "python",
   "nbconvert_exporter": "python",
   "pygments_lexer": "ipython3",
   "version": "3.10.11"
  }
 },
 "nbformat": 4,
 "nbformat_minor": 5
}
